{
 "cells": [
  {
   "cell_type": "code",
   "execution_count": 1,
   "metadata": {},
   "outputs": [],
   "source": [
    "import qutip as qt\n",
    "import numpy as np\n",
    "import circuit\n",
    "import circuit_block\n",
    "import stabilizer"
   ]
  },
  {
   "cell_type": "markdown",
   "metadata": {},
   "source": [
    "# Demo 1: Creating a error model\n",
    "\n",
    "In order to simulate the surface code in a network we must first simulate the process of creating the network itself. That is connecting the nodes through entanglement. Following the theory here we will use GHZ states to perform the required stabilizer measurements. Since we are considering certain error models those stabilizer measurements will have an intrinsic error every time they are made. In this demo we will go through all the steps into obtaining the error models of such noisy stabilizers.\n",
    "\n",
    "The outline of the procedure is as follows:\n",
    "1. Set the error rates for the operations and the environment.\n",
    "2. Choose a protocol for creating a GHZ state among the nodes.\n",
    "3. Run the selected protocol n times to obtain an average GHZ state and a average generation time\n",
    "4. Model the stabilizer measurement as a channel and use the Choi-Jamiolkowsky isomorphism to obtain the $\\chi$-matrix in the Pauli basis.\n",
    "\n",
    "After this we are left with a dictionary which contains the error rates for every possible error induced during the noisy stabilizer measurement. This together with the time needed to create the GHZ states will be used to simulate the surface code."
   ]
  },
  {
   "cell_type": "markdown",
   "metadata": {},
   "source": [
    "### STEP 1: Set the error rates\n",
    "Following the error models for NV centers here we set the values for each parameter"
   ]
  },
  {
   "cell_type": "code",
   "execution_count": 2,
   "metadata": {},
   "outputs": [],
   "source": [
    "# Set parameters\n",
    "# Gate and measurement error rates\n",
    "ps = 0.003\n",
    "pm = 0.003\n",
    "pg = 0.003\n",
    "\n",
    "# Very optimistic enviromental error rate and entanglement generation rate\n",
    "a0 = 1.0\n",
    "a1 = 1/80.\n",
    "eta = 1/100.\n",
    "\n",
    "# Theta to optimize entanglement generation\n",
    "theta = .24"
   ]
  },
  {
   "cell_type": "markdown",
   "metadata": {},
   "source": [
    "### STEP 2: Choose a protocol for generating a GHZ state\n",
    "We need to define a circuit to generate a GHZ between 4 nodes.\n",
    "We choose the following circuit:\n",
    "<img src=\"extras/circuits.png\" width=\"800\">\n",
    "\n",
    "Now let's see how to make this in code.\n",
    "See the files **circuit.py** and **circuit_block.py**"
   ]
  },
  {
   "cell_type": "code",
   "execution_count": 3,
   "metadata": {},
   "outputs": [],
   "source": [
    "# Initialize the circuit block and stabilizer objects \n",
    "stab = stabilizer.Stabilizer(ps=ps, pm=pm, pg=pg)\n",
    "cb = circuit_block.Blocks(ps, pm, pg, eta, a0, a1, theta)\n",
    "\n",
    "# First the circuit to add the EPL generated Bell pairs\n",
    "add_EPL = circuit.Circuit(a0=a0, a1=a1,\n",
    "                          circuit_block=cb.start_epl)\n",
    "# Use a wrapper object to be able to run them in parallel over the nodes\n",
    "wrap_EPL_parallel = circuit.Circuit(a0=a0, a1=a1,\n",
    "                                    circuit_block=add_EPL.run_parallel)\n",
    "\n",
    "# Create the first initial EPL pair\n",
    "start_EPL = circuit.Circuit(a0=a0, a1=a1,\n",
    "                            circuit_block=cb.start_epl)\n",
    "\n",
    "# Required one way SWAP\n",
    "start_EPL.add_circuit(circuit_block=cb.swap_pair,\n",
    "                      pair=[0, 1])\n",
    "\n",
    "# Phase 1 - Create the fist two pairs in parallel\n",
    "protocol = circuit.Circuit(a0=a0, a1=a1,\n",
    "                           circuit_block=start_EPL.run_parallel)\n",
    "\n",
    "# Phase 2 - Create GHZ\n",
    "# Create last two pairs\n",
    "protocol.add_circuit(circuit_block=wrap_EPL_parallel.append_circuit)\n",
    "\n",
    "# Apply two qubit gates in the nodes\n",
    "protocol.add_circuit(circuit_block=cb.two_qubit_gates, controls=[1, 3, 0, 2],\n",
    "                     targets=[4, 5, 6, 7], sigma=\"X\")\n",
    "# Perform the measurements\n",
    "protocol.add_circuit(circuit_block=cb.collapse_ancillas_GHZ,\n",
    "                     ghz_size=4,\n",
    "                     measure_pos=[4, 5, 6, 7])\n"
   ]
  },
  {
   "cell_type": "markdown",
   "metadata": {},
   "source": [
    "### Result\n",
    "The code returns a complete circuit that we will need to run each time to generate the a Bell pair each time. "
   ]
  },
  {
   "cell_type": "code",
   "execution_count": 4,
   "metadata": {},
   "outputs": [
    {
     "name": "stdout",
     "output_type": "stream",
     "text": [
      "Measurements:  [0 1 0 1]\n",
      "Resulting state fidelity:  0.8938533037374107\n",
      "Resources used:  Counter({'two_qubit_gate': 24, 'bell_pair': 10, 'measurement': 6, 'single_qubit_gate': 1, 'time': 0.098552000000000015, 'time0': 0.092352000000000004, 'time1': 0.0062000000000000006})\n"
     ]
    }
   ],
   "source": [
    "ghz, resources = protocol.run(None)\n",
    "\n",
    "# Reference GHZ state to compare the result\n",
    "ghz_ref = qt.ghz_state(4) * qt.ghz_state(4).dag()\n",
    "\n",
    "print(\"Resulting state fidelity: \", qt.fidelity(ghz, ghz_ref))\n",
    "print(\"Resources used: \", resources)"
   ]
  },
  {
   "cell_type": "markdown",
   "metadata": {},
   "source": [
    "Since there is a Monte Carlo simulation running under the hood if we run the circuit two times we will obtain different results.\n",
    "\n",
    "\n",
    "For improved results perform multiple runs and average over them. For safe statistics a good number of iterations is $\\approx$ 50000. "
   ]
  },
  {
   "cell_type": "code",
   "execution_count": 5,
   "metadata": {},
   "outputs": [
    {
     "name": "stdout",
     "output_type": "stream",
     "text": [
      "Measurements:  [1 0 1 0]\n",
      "Measurements:  [0 0 1 1]\n",
      "Measurements:  [0 1 1 0]\n",
      "Measurements:  [1 1 1 1]\n",
      "Measurements:  [1 0 0 1]\n",
      "Fidelity:  0.894587624712 0.00134167098269\n",
      "Time: 0.0508912 0.0363204779176\n"
     ]
    }
   ],
   "source": [
    "# Lists to save fidelities and times\n",
    "fidelity = []\n",
    "times = []\n",
    "\n",
    "iterations = 5\n",
    "rho = ghz * 0\n",
    "for i in range(iterations):\n",
    "    r, c = protocol.run(None)\n",
    "\n",
    "    # Twirl the resulting state to distribute any error symmetrically over the qubits\n",
    "    r = stab.twirl_ghz(r)\n",
    "    \n",
    "    fidelity += [qt.fidelity(r, ghz_ref)]\n",
    "    rho += r\n",
    "    times += [c[\"time\"]]\n",
    "    \n",
    "rho = rho/iterations\n",
    "print(\"Fidelity: \", np.average(fidelity), np.std(fidelity))\n",
    "print(\"Time:\", np.average(times), np.std(times))\n"
   ]
  },
  {
   "cell_type": "markdown",
   "metadata": {},
   "source": [
    "### Other protocols\n",
    "As we can see the chosen protocol is not very effective. The good news is that there are better ones! For example using the protocols that make use of Barret-Kok for generating entanglement rather than EPL are much more effective. \n",
    "\n",
    "For all the protocols available see the file **protocols.py**"
   ]
  },
  {
   "cell_type": "markdown",
   "metadata": {},
   "source": [
    "## Extracting the error model out of a GHZ state\n",
    "Now that we have created a GHZ state through the nodes we need to extract the error rates obtained when making a stabilizer measurement. To achieve this we need first to think making a stabilizer measurement as quantum channel, form there we can use the Choi-Jamiolkowsky isomorphism to extract the $\\chi$-matrix which contains all the information about the channel\n",
    "\n",
    "First define which stabilizer (star or plaquette) is going to be evaluated and initialize the required objects."
   ]
  },
  {
   "cell_type": "code",
   "execution_count": 6,
   "metadata": {},
   "outputs": [],
   "source": [
    "import noise_modeling\n",
    "\n",
    "# Select a type of stabilizer to extract the model from\n",
    "stab_type = \"X\"\n",
    "stab_size = 4\n",
    "\n",
    "# Initialize objects\n",
    "model = noise_modeling.NoiseModel(stab_size, stab_type)\n",
    "model.separate_basis_parity()\n",
    "\n",
    "# Choi state for noise noise modeling\n",
    "choi = model._choi_state_ket(stab_size)\n",
    "choi = choi * choi.dag()\n",
    "targets = list(range(stab_size))\n"
   ]
  },
  {
   "cell_type": "markdown",
   "metadata": {},
   "source": [
    "### Stabilizer as a quantum channel\n",
    "\n",
    "$$\\mathcal{S}(\\rho) = p_{e}\\rho^{even} \\otimes \\lvert0\\rangle \\langle0\\rvert + p_{o}\\rho^{odd} \\otimes \\lvert1\\rangle \\langle1\\rvert$$\n",
    "\n",
    "In code we use the functions in **stabilizer.py**"
   ]
  },
  {
   "cell_type": "code",
   "execution_count": 7,
   "metadata": {},
   "outputs": [],
   "source": [
    "probs, rhos = stab.measure_ghz_stabilizer(choi, ghz, targets, stab_type)"
   ]
  },
  {
   "cell_type": "markdown",
   "metadata": {},
   "source": [
    "Express the $\\chi$-matrix in the Pauli basis. See the code in **noise_modeling.py**."
   ]
  },
  {
   "cell_type": "code",
   "execution_count": 8,
   "metadata": {},
   "outputs": [
    {
     "name": "stdout",
     "output_type": "stream",
     "text": [
      "Sum of all probabilties:  0.9999999998182193\n",
      "Decomposition:  {'YIYX_OK': 2.0281990392429566e-08, 'YYXI_NOK': 2.0281990392429563e-08, 'IIZI_OK': 0.0015796513650853054, 'ZZZI_OK': 1.0201795836029604e-09, 'IIYX_OK': 1.268084298031799e-05, 'IIXX_OK': 7.823792819362404e-05, 'IIIY_NOK': 0.0015796513627225194, 'IXZI_NOK': 1.2680845343052791e-05, 'ZYYY_NOK': 0.0, 'XIIX_NOK': 5.7108510392172193e-05, 'YIII_OK': 0.0015796513627225194, 'IIYZ_OK': 3.807383579205432e-06, 'YIYZ_OK': 3.0558108760839307e-09, 'YIZZ_OK': 3.058173610990661e-09, 'XZYI_NOK': 2.028198909156282e-08, 'YZYI_NOK': 3.055810876084474e-09, 'ZZZI_NOK': 1.0201795814563496e-09, 'ZYYZ_NOK': 0.0, 'IIZI_NOK': 0.0015796513650853218, 'IXIY_NOK': 1.268084298031799e-05, 'XIII_NOK': 0.005185028228422468, 'ZYYY_OK': 0.0, 'YYIY_NOK': 1.01781691454573e-09, 'ZIXY_OK': 2.028198909156325e-08, 'YIYI_NOK': 1.9036894275181234e-06, 'ZYYZ_OK': 0.0, 'IXZI_OK': 1.2680845343052791e-05, 'YIIY_OK': 1.9036894275181247e-06, 'IIII_OK': 0.7832662291780041, 'IIZZ_NOK': 1.9036941528658812e-06, 'ZIIY_NOK': 3.807383579205432e-06, 'ZIYZ_NOK': 3.0581736109906606e-09, 'YYYY_NOK': 0.0, 'IIII_NOK': 0.19984371194628184, 'YYYI_OK': 1.01781691454573e-09, 'IXII_OK': 0.005185028228422468, 'IZIZ_OK': 1.9036941528588281e-06, 'YYYY_OK': 0.0}\n"
     ]
    }
   ],
   "source": [
    "# Set channel output and make chi matrix\n",
    "model.set_rho(rhos, probs)\n",
    "model.make_chi_matrix()\n",
    "    \n",
    "# Sanity check: Check the total sum of the decomposition = 1\n",
    "print(\"Sum of all probabilties: \", model.check_total_sum())\n",
    "\n",
    "print(\"Decomposition: \", model.chi)\n"
   ]
  },
  {
   "cell_type": "markdown",
   "metadata": {},
   "source": [
    "In order to gain an idea of the error rates given by the noisy stabilizer measurement \n",
    "we can look at some of the error rates obtained.\n",
    "\n",
    "For no error we look at $IIII\\_OK$ and only measurement error $IIII\\_NOK$. Qubit errors are more complex since we have the rates for all the possible combinations of error. Nonetheless we can have an idea by looking at the value\n",
    "of $E=(1 -IIII\\_OK - IIII\\_NOK)/4$. \n",
    "\n",
    "For comparison remember the thresholds for the surface code for a qubit error rate of $q$ and a measurement error rate of $p$ are $q=p=0.01$"
   ]
  },
  {
   "cell_type": "code",
   "execution_count": 9,
   "metadata": {},
   "outputs": [
    {
     "name": "stdout",
     "output_type": "stream",
     "text": [
      "Errors:\n",
      "OK:  0.7832662291780041\n",
      "NOK:  0.19984371194628184\n",
      "QUBIT ERROR:  0.004222514718928504\n"
     ]
    }
   ],
   "source": [
    "    I_OK = model.chi[\"IIII_OK\"]\n",
    "    I_NOK = model.chi[\"IIII_NOK\"]\n",
    "    # The sum of all physical errors\n",
    "    E = (1 - model.chi[\"IIII_OK\"] - model.chi[\"IIII_NOK\"])/4.\n",
    "    print(\"Errors:\")\n",
    "    print(\"OK: \", I_OK)\n",
    "    print(\"NOK: \", I_NOK)\n",
    "    print(\"QUBIT ERROR: \", E)"
   ]
  },
  {
   "cell_type": "markdown",
   "metadata": {},
   "source": [
    "Finally, in order to use this error model in the surface code simulations we need to save this dictionary. We use pickle for this end."
   ]
  },
  {
   "cell_type": "code",
   "execution_count": 10,
   "metadata": {},
   "outputs": [
    {
     "ename": "TypeError",
     "evalue": "type list doesn't define __round__ method",
     "output_type": "error",
     "traceback": [
      "\u001b[0;31m---------------------------------------------------------------------------\u001b[0m",
      "\u001b[0;31mTypeError\u001b[0m                                 Traceback (most recent call last)",
      "\u001b[0;32m<ipython-input-10-e1f7dd456812>\u001b[0m in \u001b[0;36m<module>\u001b[0;34m()\u001b[0m\n\u001b[1;32m      4\u001b[0m \u001b[0;34m\u001b[0m\u001b[0m\n\u001b[1;32m      5\u001b[0m file_name = names.chi(ps, pm, pg, eta, a0, a1, theta,\n\u001b[0;32m----> 6\u001b[0;31m                       stab_size, stab_type, \"DEMO-TEST\")\n\u001b[0m\u001b[1;32m      7\u001b[0m \u001b[0;34m\u001b[0m\u001b[0m\n\u001b[1;32m      8\u001b[0m \u001b[0mprint\u001b[0m\u001b[0;34m(\u001b[0m\u001b[0;34m\"File name: \"\u001b[0m\u001b[0;34m,\u001b[0m \u001b[0mfile_name\u001b[0m\u001b[0;34m)\u001b[0m\u001b[0;34m\u001b[0m\u001b[0m\n",
      "\u001b[0;32m~/tesis/fault_tolerance/decomposition/tools/names.py\u001b[0m in \u001b[0;36mchi\u001b[0;34m(ps, pm, pg, eta, a0, a1, theta, stab_size, parity, protocol)\u001b[0m\n\u001b[1;32m     12\u001b[0m \u001b[0;32mdef\u001b[0m \u001b[0mchi\u001b[0m\u001b[0;34m(\u001b[0m\u001b[0mps\u001b[0m\u001b[0;34m,\u001b[0m \u001b[0mpm\u001b[0m\u001b[0;34m,\u001b[0m \u001b[0mpg\u001b[0m\u001b[0;34m,\u001b[0m \u001b[0meta\u001b[0m\u001b[0;34m,\u001b[0m \u001b[0ma0\u001b[0m\u001b[0;34m,\u001b[0m \u001b[0ma1\u001b[0m\u001b[0;34m,\u001b[0m \u001b[0mtheta\u001b[0m\u001b[0;34m,\u001b[0m \u001b[0mstab_size\u001b[0m\u001b[0;34m,\u001b[0m \u001b[0mparity\u001b[0m\u001b[0;34m,\u001b[0m \u001b[0mprotocol\u001b[0m\u001b[0;34m)\u001b[0m\u001b[0;34m:\u001b[0m\u001b[0;34m\u001b[0m\u001b[0m\n\u001b[1;32m     13\u001b[0m     \u001b[0;34m\"\"\"Name generator for CHI matrix file outputs.\"\"\"\u001b[0m\u001b[0;34m\u001b[0m\u001b[0m\n\u001b[0;32m---> 14\u001b[0;31m     param_names = [\"ps=\" + str(round(ps, 4)), \"pm=\" + str(round(pm, 4)),\n\u001b[0m\u001b[1;32m     15\u001b[0m                    \u001b[0;34m\"pg=\"\u001b[0m \u001b[0;34m+\u001b[0m \u001b[0mstr\u001b[0m\u001b[0;34m(\u001b[0m\u001b[0mround\u001b[0m\u001b[0;34m(\u001b[0m\u001b[0mpg\u001b[0m\u001b[0;34m,\u001b[0m \u001b[0;36m4\u001b[0m\u001b[0;34m)\u001b[0m\u001b[0;34m)\u001b[0m\u001b[0;34m,\u001b[0m \u001b[0;34m\"eta=\"\u001b[0m \u001b[0;34m+\u001b[0m \u001b[0mstr\u001b[0m\u001b[0;34m(\u001b[0m\u001b[0mround\u001b[0m\u001b[0;34m(\u001b[0m\u001b[0meta\u001b[0m\u001b[0;34m,\u001b[0m \u001b[0;36m4\u001b[0m\u001b[0;34m)\u001b[0m\u001b[0;34m)\u001b[0m\u001b[0;34m,\u001b[0m\u001b[0;34m\u001b[0m\u001b[0m\n\u001b[1;32m     16\u001b[0m                    \u001b[0;34m\"a0=\"\u001b[0m \u001b[0;34m+\u001b[0m \u001b[0mstr\u001b[0m\u001b[0;34m(\u001b[0m\u001b[0mround\u001b[0m\u001b[0;34m(\u001b[0m\u001b[0ma0\u001b[0m\u001b[0;34m,\u001b[0m \u001b[0;36m4\u001b[0m\u001b[0;34m)\u001b[0m\u001b[0;34m)\u001b[0m\u001b[0;34m,\u001b[0m \u001b[0;34m\"a1=\"\u001b[0m \u001b[0;34m+\u001b[0m \u001b[0mstr\u001b[0m\u001b[0;34m(\u001b[0m\u001b[0mround\u001b[0m\u001b[0;34m(\u001b[0m\u001b[0ma1\u001b[0m\u001b[0;34m,\u001b[0m \u001b[0;36m4\u001b[0m\u001b[0;34m)\u001b[0m\u001b[0;34m)\u001b[0m\u001b[0;34m,\u001b[0m\u001b[0;34m\u001b[0m\u001b[0m\n",
      "\u001b[0;31mTypeError\u001b[0m: type list doesn't define __round__ method"
     ]
    }
   ],
   "source": [
    "import tools.names as names\n",
    "import pickle\n",
    "\n",
    "\n",
    "file_name = names.chi(ps, pm, pg, eta, a0, a1, theta,\n",
    "                      stab_size, stab_type, \"DEMO-TEST\")\n",
    "\n",
    "print(\"File name: \", file_name)\n",
    "pickle_out = open(file_name, \"wb\")\n",
    "pickle.dump(model.chi, pickle_out, protocol=2)\n",
    "pickle_out.close()"
   ]
  }
 ],
 "metadata": {
  "kernelspec": {
   "display_name": "Python 3",
   "language": "python",
   "name": "python3"
  },
  "language_info": {
   "codemirror_mode": {
    "name": "ipython",
    "version": 3
   },
   "file_extension": ".py",
   "mimetype": "text/x-python",
   "name": "python",
   "nbconvert_exporter": "python",
   "pygments_lexer": "ipython3",
   "version": "3.5.2"
  }
 },
 "nbformat": 4,
 "nbformat_minor": 2
}
