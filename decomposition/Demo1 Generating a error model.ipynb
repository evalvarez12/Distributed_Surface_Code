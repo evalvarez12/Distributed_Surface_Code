{
 "cells": [
  {
   "cell_type": "code",
   "execution_count": 1,
   "metadata": {},
   "outputs": [],
   "source": [
    "import qutip as qt\n",
    "import numpy as np\n",
    "import circuit\n",
    "import circuit_block\n",
    "import stabilizer"
   ]
  },
  {
   "cell_type": "markdown",
   "metadata": {},
   "source": [
    "# Demo 1: Creating a error model\n",
    "\n",
    "In order to simulate the surface code in a network we must first simulate the process of creating the network itself. That is connecting the nodes through entanglement. Following the theory here we will use GHZ states to perform the required stabilizer measurements. Since we are considering certain error models those stabilizer measurements will have an intrinsic error every time they are made. In this demo we will go through all the steps into obtaining the error models of such noisy stabilizers.\n",
    "\n",
    "The outline of the procedure is as follows:\n",
    "1. Set the error rates for the operations and the environment.\n",
    "2. Choose a protocol for creating a GHZ state among the nodes.\n",
    "3. Run the selected protocol n times to obtain an average GHZ state and a average generation time\n",
    "4. Model the stabilizer measurement as a channel and use the Choi-Jamiolkowsky isomorphism to obtain the $\\chi$-matrix in the Pauli basis.\n",
    "\n",
    "After this we are left with a dictionary which contains the error rates for every possible error induced during the noisy stabilizer measurement. This together with the time needed to create the GHZ states will be used to simulate the surface code."
   ]
  },
  {
   "cell_type": "markdown",
   "metadata": {},
   "source": [
    "### STEP 1: Set the error rates\n",
    "Following the error models for NV centers here we set the values for each parameter"
   ]
  },
  {
   "cell_type": "code",
   "execution_count": 2,
   "metadata": {},
   "outputs": [],
   "source": [
    "# Set parameters\n",
    "# Gate and measurement error rates\n",
    "ps = 0.003\n",
    "pm = 0.003\n",
    "pg = 0.003\n",
    "\n",
    "# Very optimistic enviromental error rate and entanglement generation rate\n",
    "a0 = 1.5\n",
    "a1 = 1/80.\n",
    "eta = 1/100.\n",
    "\n",
    "# Theta to optimize entanglement generation\n",
    "theta = .24"
   ]
  },
  {
   "cell_type": "markdown",
   "metadata": {},
   "source": [
    "### STEP 2: Choose a protocol for generating a GHZ state\n",
    "We need to define a circuit to generate a GHZ between 4 nodes.\n",
    "We choose the following circuit:\n",
    "<img src=\"extras/ghz_creation.png\" width=\"800\">\n",
    "<img src=\"extras/EPL.png\" width=\"800\">\n",
    "\n",
    "Now let's see how to make this in code.\n",
    "See the files **circuit.py** and **circuit_block.py**"
   ]
  },
  {
   "cell_type": "code",
   "execution_count": 3,
   "metadata": {},
   "outputs": [],
   "source": [
    "# Initialize the circuit block and stabilizer objects \n",
    "# Circuits are assemebled in reversed order due to recursion\n",
    "cb = circuit_block.Blocks(ps, pm, pg, eta, a0, a1, theta)\n",
    "epl = circuit.Circuit(a0=a0, a1=a1,\n",
    "                          circuit_block=cb.start_epl)\n",
    "\n",
    "# Phase 3 - Create GHZ\n",
    "# Perform the measurements\n",
    "protocol = circuit.Circuit(a0=a0, a1=a1,\n",
    "                           circuit_block=cb.collapse_ancillas_GHZ,\n",
    "                           ghz_size=4,\n",
    "                           measure_pos=[4, 5, 6, 7])\n",
    "# Apply two qubit gates in the nodes\n",
    "protocol.add_circuit(circuit_block=cb.two_qubit_gates, controls=[1, 3, 0, 2],\n",
    "                     targets=[4, 5, 6, 7], sigma=\"X\")\n",
    "\n",
    "# Phase 2 Create last two pairs\n",
    "pair = circuit.Circuit(a0=a0, a1=a1, circuit_block=cb.swap_pair,\n",
    "                       pair=[0, 1])\n",
    "pair.add_circuit(circuit_block=cb.start_epl)\n",
    "# Wrapper to run in parallel\n",
    "wrap_EPL_parallel = circuit.Circuit(a0=a0, a1=a1,\n",
    "                                    circuit_block=pair.run_parallel)\n",
    "\n",
    "protocol.add_circuit(circuit_block=wrap_EPL_parallel.append_circuit)\n",
    "\n",
    "# Phase 1 Create initial two pairs\n",
    "\n",
    "protocol.add_circuit(circuit_block=epl.run_parallel)"
   ]
  },
  {
   "cell_type": "markdown",
   "metadata": {},
   "source": [
    "### Result\n",
    "The code returns a complete circuit that we will need to run each time to generate the a Bell pair each time. "
   ]
  },
  {
   "cell_type": "code",
   "execution_count": 4,
   "metadata": {},
   "outputs": [
    {
     "name": "stdout",
     "output_type": "stream",
     "text": [
      "Resulting state fidelity:  0.9877164806325516\n",
      "Resources used:  Counter({'two_qubit_gate': 28, 'bell_pair': 12, 'measurement': 7, 'single_qubit_gate': 6, 'time': 0.0456766, 'time0': 0.038676, 'time1': 0.007000599999999999})\n"
     ]
    }
   ],
   "source": [
    "ghz, resources = protocol.run()\n",
    "\n",
    "# Reference GHZ state to compare the result\n",
    "ghz_ref = qt.ghz_state(4) * qt.ghz_state(4).dag()\n",
    "\n",
    "print(\"Resulting state fidelity: \", qt.fidelity(ghz, ghz_ref))\n",
    "print(\"Resources used: \", resources)"
   ]
  },
  {
   "cell_type": "markdown",
   "metadata": {},
   "source": [
    "Since there is a Monte Carlo simulation running under the hood if we run the circuit two times we will obtain different results.\n",
    "\n",
    "\n",
    "For improved results perform multiple runs and average over them. For safe statistics a good number of iterations is $\\approx$ 2000. "
   ]
  },
  {
   "cell_type": "code",
   "execution_count": 5,
   "metadata": {},
   "outputs": [
    {
     "name": "stdout",
     "output_type": "stream",
     "text": [
      "Fidelity:  0.9866236608035297 0.0015410843046811484\n",
      "Time: 0.062131040000000005 0.022071022955957444\n"
     ]
    }
   ],
   "source": [
    "# Initialize stabilizer object\n",
    "stab = stabilizer.Stabilizer(ps=ps, pm=pm, pg=pg)\n",
    "\n",
    "# Lists to save fidelities and times\n",
    "fidelity = []\n",
    "times = []\n",
    "\n",
    "iterations = 5\n",
    "rho = ghz * 0\n",
    "for i in range(iterations):\n",
    "    r, c = protocol.run()\n",
    "\n",
    "    # Twirl the resulting state to distribute any error symmetrically over the qubits\n",
    "    r = stab.twirl_ghz(r)\n",
    "    \n",
    "    fidelity += [qt.fidelity(r, ghz_ref)]\n",
    "    rho += r\n",
    "    times += [c[\"time\"]]\n",
    "    \n",
    "rho = rho/iterations\n",
    "print(\"Fidelity: \", np.average(fidelity), np.std(fidelity))\n",
    "print(\"Time:\", np.average(times), np.std(times))\n"
   ]
  },
  {
   "cell_type": "markdown",
   "metadata": {},
   "source": [
    "### Other protocols\n",
    "As we can see the chosen protocol is not very effective. The good news is that there are better ones! For example using the protocols that make use of Barret-Kok for generating entanglement rather than EPL are much more effective. \n",
    "\n",
    "For all the protocols available see the file **protocols.py**"
   ]
  },
  {
   "cell_type": "markdown",
   "metadata": {},
   "source": [
    "## Extracting the error model out of a GHZ state\n",
    "Now that we have created a GHZ state through the nodes we need to extract the error rates obtained when making a stabilizer measurement. To achieve this we need first to think making a stabilizer measurement as quantum channel, form there we can use the Choi-Jamiolkowsky isomorphism to extract the $\\chi$-matrix which contains all the information about the channel\n",
    "\n",
    "First define which stabilizer (star or plaquette) is going to be evaluated and initialize the required objects."
   ]
  },
  {
   "cell_type": "code",
   "execution_count": 6,
   "metadata": {},
   "outputs": [],
   "source": [
    "import noise_modeling\n",
    "\n",
    "# Select a type of stabilizer to extract the model from\n",
    "stab_type = \"X\"\n",
    "stab_size = 4\n",
    "\n",
    "# Initialize objects\n",
    "model = noise_modeling.NoiseModel(stab_size, stab_type)\n",
    "model.separate_basis_parity()\n",
    "\n",
    "# Choi state for noise noise modeling\n",
    "choi = model._choi_state_ket(stab_size)\n",
    "choi = choi * choi.dag()\n",
    "targets = list(range(stab_size))\n"
   ]
  },
  {
   "cell_type": "markdown",
   "metadata": {},
   "source": [
    "### Stabilizer as a quantum channel\n",
    "\n",
    "$$\\mathcal{S}(\\rho) = p_{e}\\rho^{even} \\otimes \\lvert0\\rangle \\langle0\\rvert + p_{o}\\rho^{odd} \\otimes \\lvert1\\rangle \\langle1\\rvert$$\n",
    "\n",
    "In code we use the functions in **stabilizer.py**"
   ]
  },
  {
   "cell_type": "code",
   "execution_count": 7,
   "metadata": {},
   "outputs": [],
   "source": [
    "probs, rhos = stab.measure_ghz_stabilizer(choi, ghz, targets, stab_type)"
   ]
  },
  {
   "cell_type": "markdown",
   "metadata": {},
   "source": [
    "Express the $\\chi$-matrix in the Pauli basis. See the code in **noise_modeling.py**."
   ]
  },
  {
   "cell_type": "code",
   "execution_count": 8,
   "metadata": {},
   "outputs": [
    {
     "name": "stdout",
     "output_type": "stream",
     "text": [
      "Sum of all probabilties:  0.9999999997596649\n",
      "Decomposition:  {'IIII_OK': 0.9328040193815325, 'IIII_NOK': 0.04447341173756266, 'IIIX_OK': 0.008024134060068758, 'IIIX_NOK': 0.008024134060068758, 'IYII_OK': 0.0015725793509819195, 'IYII_NOK': 0.0015725793509819195, 'IZII_OK': 0.0015725793004200362, 'IZII_NOK': 0.0015725793004200555, 'IXXI_OK': 0.00016090888343334853, 'IXXI_NOK': 0.00012873681513997004, 'YIXI_OK': 1.97525376169899e-05, 'YIXI_NOK': 1.9752537616989897e-05, 'IXIZ_OK': 1.9752628948700182e-05, 'IXIZ_NOK': 1.9752628948700182e-05, 'YIYI_OK': 1.8980454193668123e-06, 'YIYI_NOK': 1.8980454193668127e-06, 'IZIY_OK': 3.796123480695074e-06, 'IZIY_NOK': 3.796123480695074e-06, 'IZIZ_OK': 1.8979924318900167e-06, 'IZIZ_NOK': 1.8979924318921633e-06, 'XZYI_OK': 3.1642956537761287e-08, 'XZYI_NOK': 3.164295653776126e-08, 'XZIZ_OK': 3.158956624587857e-08, 'XZIZ_NOK': 3.158956624587857e-08, 'IYYY_OK': 1.0140151140820014e-09, 'IYYY_NOK': 1.0140151140820014e-09, 'YIZY_OK': 3.0574844587940853e-09, 'YIZY_NOK': 3.0574844587945345e-09, 'YZZI_OK': 3.1016989298618804e-09, 'YZZI_NOK': 3.1016989298618804e-09, 'IZZZ_OK': 1.0259086083574367e-09, 'IZZZ_NOK': 1.0259085982377002e-09, 'YZYZ_OK': 0.0, 'YZYZ_NOK': 0.0, 'ZZYZ_OK': 0.0, 'ZZYZ_NOK': 0.0, 'ZZZZ_OK': 0.0, 'ZZZZ_NOK': 0.0}\n"
     ]
    }
   ],
   "source": [
    "# Set channel output and make chi matrix\n",
    "model.set_rho(rhos, probs)\n",
    "model.make_chi_matrix()\n",
    "    \n",
    "# Sanity check: Check the total sum of the decomposition = 1\n",
    "print(\"Sum of all probabilties: \", model.check_total_sum())\n",
    "\n",
    "print(\"Decomposition: \", model.chi)\n"
   ]
  },
  {
   "cell_type": "markdown",
   "metadata": {},
   "source": [
    "In order to gain an idea of the error rates given by the noisy stabilizer measurement \n",
    "we can look at some of the error rates obtained.\n",
    "\n",
    "For no error we look at $IIII\\_OK$ and only measurement error $IIII\\_NOK$. Qubit errors are more complex since we have the rates for all the possible combinations of error. Nonetheless we can have an idea by looking at the value\n",
    "of $E=(1 -IIII\\_OK - IIII\\_NOK)/4$. \n",
    "\n",
    "For comparison remember the thresholds for the surface code for a qubit error rate of $q$ and a measurement error rate of $p$ are $q=p=0.01$"
   ]
  },
  {
   "cell_type": "code",
   "execution_count": 9,
   "metadata": {},
   "outputs": [
    {
     "name": "stdout",
     "output_type": "stream",
     "text": [
      "Errors:\n",
      "OK:  0.9328040193815325\n",
      "NOK:  0.04447341173756266\n",
      "QUBIT ERROR:  0.005680642220226221\n"
     ]
    }
   ],
   "source": [
    "    I_OK = model.chi[\"IIII_OK\"]\n",
    "    I_NOK = model.chi[\"IIII_NOK\"]\n",
    "    # The sum of all physical errors\n",
    "    E = (1 - model.chi[\"IIII_OK\"] - model.chi[\"IIII_NOK\"])/4.\n",
    "    print(\"Errors:\")\n",
    "    print(\"OK: \", I_OK)\n",
    "    print(\"NOK: \", I_NOK)\n",
    "    print(\"QUBIT ERROR: \", E)"
   ]
  },
  {
   "cell_type": "markdown",
   "metadata": {},
   "source": [
    "Finally, in order to use this error model in the surface code simulations we need to save this dictionary. We use pickle for this end."
   ]
  },
  {
   "cell_type": "code",
   "execution_count": 10,
   "metadata": {},
   "outputs": [
    {
     "name": "stdout",
     "output_type": "stream",
     "text": [
      "File name:  /home/eduardo/thesis/fault_tolerance/data/CHI_DEMO_X_4_ps=0.003_pm=0.003_pg=0.003_eta=0.01_a0=1.5_a1=0.0125_theta=0.24.dict\n"
     ]
    }
   ],
   "source": [
    "import tools.names as names\n",
    "import pickle\n",
    "\n",
    "\n",
    "file_name = names.chi(ps, pm, pg, eta, a0, a1, theta,\n",
    "                      stab_size, stab_type, \"DEMO\")\n",
    "\n",
    "print(\"File name: \", file_name)\n",
    "pickle_out = open(file_name, \"wb\")\n",
    "pickle.dump(model.chi, pickle_out, protocol=2)\n",
    "pickle_out.close()"
   ]
  }
 ],
 "metadata": {
  "kernelspec": {
   "display_name": "Python 3",
   "language": "python",
   "name": "python3"
  },
  "language_info": {
   "codemirror_mode": {
    "name": "ipython",
    "version": 3
   },
   "file_extension": ".py",
   "mimetype": "text/x-python",
   "name": "python",
   "nbconvert_exporter": "python",
   "pygments_lexer": "ipython3",
   "version": "3.6.5"
  }
 },
 "nbformat": 4,
 "nbformat_minor": 2
}
