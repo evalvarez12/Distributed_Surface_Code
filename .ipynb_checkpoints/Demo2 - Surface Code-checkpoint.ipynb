{
 "cells": [
  {
   "cell_type": "code",
   "execution_count": 1,
   "metadata": {},
   "outputs": [],
   "source": [
    "import numpy as np\n",
    "import matplotlib.pyplot as plt\n",
    "import surface_code\n",
    "import layers\n",
    "import matching"
   ]
  },
  {
   "cell_type": "markdown",
   "metadata": {},
   "source": [
    "# Demo surface code simulations\n",
    "Here we will se the surface code in action!\n"
   ]
  },
  {
   "cell_type": "code",
   "execution_count": 2,
   "metadata": {},
   "outputs": [],
   "source": [
    "# Define the parameters for the surface code\n",
    "distance = 10\n",
    "topology = \"toric\"\n",
    "\n",
    "# Initialize objects\n",
    "sc = surface_code.SurfaceCode(distance, topology)\n",
    "lc = layers.Layers(sc)"
   ]
  },
  {
   "cell_type": "code",
   "execution_count": 3,
   "metadata": {},
   "outputs": [],
   "source": [
    "# Error rates \n",
    "p = 0.022 # Quit error rate\n",
    "q = 0.022 # Measurement error rate\n",
    "\n",
    "cycles = 20 # Number of stabilizer measurements "
   ]
  },
  {
   "cell_type": "code",
   "execution_count": 10,
   "metadata": {},
   "outputs": [
    {
     "name": "stdout",
     "output_type": "stream",
     "text": [
      "LOGICAL QUBITS:  ([1.0, 1.0], [1.0, 1.0])\n"
     ]
    },
    {
     "data": {
      "image/png": "[encoded data removed]",
      "text/plain": [
       "<matplotlib.figure.Figure at 0x7f30b15c5e80>"
      ]
     },
     "metadata": {},
     "output_type": "display_data"
    },
    {
     "data": {
      "image/png": "[encoded data removed]",
      "text/plain": [
       "<matplotlib.figure.Figure at 0x7f30b39aae10>"
      ]
     },
     "metadata": {},
     "output_type": "display_data"
    }
   ],
   "source": [
    "# Take measurements and apply errors\n",
    "for t in range(cycles):\n",
    "    sc.apply_qubit_error(p, 0)\n",
    "    sc.measure_all_stabilizers()\n",
    "    sc.apply_measurement_error(q)\n",
    "    lc.add()\n",
    "# Final perfect last measurement\n",
    "sc.measure_all_stabilizers()\n",
    "lc.add()\n",
    "\n",
    "# Plot of the errors on the surface code\n",
    "sc.plot(\"star\")\n",
    "\n",
    "# Decode and apply corrections\n",
    "lc.decode()\n",
    "    \n",
    "# Sanity check for errors in decoding and correcting\n",
    "sc.measure_all_stabilizers()\n",
    "if (sc.qubits[:, sc.tags != \"Q\"] == -1).any():\n",
    "    print(\"FAILURE CORRECTING\")\n",
    "\n",
    "# Plot the corrected code\n",
    "sc.plot(\"star\")\n",
    "    \n",
    "# Measure logical qubit\n",
    "logical = sc.measure_logical()\n",
    "\n",
    "# Check if a logical error happens\n",
    "print(\"LOGICAL QUBITS: \", logical)\n",
    "if -1 in logical[0] or -1 in logical[1]:\n",
    "   print(\"LOGICAL QUBIT ERROR\")\n",
    "\n",
    "    \n",
    "plt.show()\n",
    "# Reset the surface code and erase all the stored measurements\n",
    "lc.reset()\n",
    "sc.reset()"
   ]
  },
  {
   "cell_type": "code",
   "execution_count": null,
   "metadata": {},
   "outputs": [],
   "source": []
  },
  {
   "cell_type": "code",
   "execution_count": null,
   "metadata": {},
   "outputs": [],
   "source": []
  },
  {
   "cell_type": "code",
   "execution_count": null,
   "metadata": {},
   "outputs": [],
   "source": []
  },
  {
   "cell_type": "code",
   "execution_count": null,
   "metadata": {},
   "outputs": [],
   "source": []
  },
  {
   "cell_type": "code",
   "execution_count": null,
   "metadata": {},
   "outputs": [],
   "source": [
    "# Parameters for noisy measurement\n",
    "ps = 0.003\n",
    "pm = 0.003\n",
    "pg = 0.003\n",
    "eta = 0.01\n",
    "a0 = 12.0\n",
    "a1 = 1/80.\n",
    "protocol = \"GHZ\"\n",
    "theta = .24\n",
    "\n",
    "p = 0.022\n",
    "q = 0.022\n",
    "iterations = 1\n",
    "cycles = 20"
   ]
  }
 ],
 "metadata": {
  "kernelspec": {
   "display_name": "Python 3",
   "language": "python",
   "name": "python3"
  },
  "language_info": {
   "codemirror_mode": {
    "name": "ipython",
    "version": 3
   },
   "file_extension": ".py",
   "mimetype": "text/x-python",
   "name": "python",
   "nbconvert_exporter": "python",
   "pygments_lexer": "ipython3",
   "version": "3.5.2"
  }
 },
 "nbformat": 4,
 "nbformat_minor": 2
}
