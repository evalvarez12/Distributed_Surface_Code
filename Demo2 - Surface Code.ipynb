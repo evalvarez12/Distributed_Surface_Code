{
 "cells": [
  {
   "cell_type": "code",
   "execution_count": 9,
   "metadata": {},
   "outputs": [],
   "source": [
    "import numpy as np\n",
    "import matplotlib.pyplot as plt\n",
    "import surface_code\n",
    "import layers\n",
    "import matching"
   ]
  },
  {
   "cell_type": "markdown",
   "metadata": {},
   "source": [
    "# Demo 2: Surface code simulation\n",
    "In this demo we will go through the simulations of the surface code under the different error models and \n",
    "see the methodology followed into calculating a threshold.\n",
    "\n",
    "### Random error model\n",
    "First lets analyze the simulations of the surface code under random error to get an idea of the code works.\n",
    "The general idea when simulation the surface code is:\n",
    "1. Define all the relevant parameters (code distance, error rates, topology).\n",
    "2. Perform some number of measurements and introduce error on each step.\n",
    "3. Feed the measured syndromes into a decoder and apply the obtained corrections.\n",
    "4. Measure the logical qubits to find if the decoding failed or succeed.\n",
    "\n",
    "The code is organized in a object oriented scheme, to see the functions to be used take a look into the files **surface_code.py, layers.py** and **matching.py**.\n",
    "\n",
    "Below is an example on how simulations can be made: "
   ]
  },
  {
   "cell_type": "code",
   "execution_count": 10,
   "metadata": {},
   "outputs": [
    {
     "name": "stdout",
     "output_type": "stream",
     "text": [
      "LOGICAL QUBITS:  ([1.0], [1.0])\n"
     ]
    },
    {
     "data": {
      "image/png": "[encoded data removed]",
      "text/plain": [
       "<matplotlib.figure.Figure at 0x7f24c8c74a90>"
      ]
     },
     "metadata": {},
     "output_type": "display_data"
    },
    {
     "data": {
      "image/png": "[encoded data removed]",
      "text/plain": [
       "<matplotlib.figure.Figure at 0x7f24c8ee4c50>"
      ]
     },
     "metadata": {},
     "output_type": "display_data"
    }
   ],
   "source": [
    "# Define the parameters for the surface code\n",
    "distance = 10\n",
    "topology = \"planar\"\n",
    "\n",
    "# Initialize objects\n",
    "sc = surface_code.SurfaceCode(distance, topology)\n",
    "lc = layers.Layers(sc)\n",
    "\n",
    "# Error rates \n",
    "p = 0.022 # Quit error rate\n",
    "q = 0.022 # Measurement error rate\n",
    " \n",
    "# Number of stabilizer measurements \n",
    "cycles = 10\n",
    "\n",
    "# Take measurements and apply errors\n",
    "for t in range(cycles):\n",
    "    sc.apply_qubit_error(p, 0)\n",
    "    sc.measure_all_stabilizers()\n",
    "    sc.apply_measurement_error(q)\n",
    "    lc.add()\n",
    "# Final perfect last measurement\n",
    "sc.measure_all_stabilizers()\n",
    "lc.add()\n",
    "\n",
    "# Plot of the errors on the surface code\n",
    "# We only plot the stars since erros is only deplahsing\n",
    "sc.plot(\"star\")\n",
    "\n",
    "# Decode and apply corrections\n",
    "lc.decode()\n",
    "    \n",
    "# Sanity check for errors in decoding and correcting\n",
    "sc.measure_all_stabilizers()\n",
    "if (sc.qubits[:, sc.tags != \"Q\"] == -1).any():\n",
    "    print(\"FAILURE CORRECTING\")\n",
    "\n",
    "# Plot the corrected code\n",
    "sc.plot(\"star\")\n",
    "    \n",
    "# Measure logical qubit\n",
    "logical = sc.measure_logical()\n",
    "\n",
    "# Check if a logical error happens\n",
    "print(\"LOGICAL QUBITS: \", logical)\n",
    "if -1 in logical[0] or -1 in logical[1]:\n",
    "   print(\"LOGICAL QUBIT ERROR\")\n",
    "\n",
    "    \n",
    "plt.show()\n",
    "\n",
    "# Reset the surface code and erase all the stored measurements\n",
    "lc.reset()\n",
    "sc.reset()"
   ]
  },
  {
   "cell_type": "markdown",
   "metadata": {},
   "source": [
    "### Noisy stabilizer measurements\n",
    "Now lets use noisy stabilizers and environmental noise to introduce the errors.\n",
    "\n",
    "See **Demo 1** for details on how to extract a error model for performing noisy stabilizers.\n",
    "To include the error models in the simulations here we need to load the specific dictionary for the parameters given. \n",
    "\n",
    "In code this is achieved by calling the method **sc.init_error_obj(parameters...)**.\n",
    "Below we show an example with some pre-prepared error models:"
   ]
  },
  {
   "cell_type": "code",
   "execution_count": 11,
   "metadata": {},
   "outputs": [],
   "source": [
    "# Determine error rates paramters\n",
    "ps = 0.003\n",
    "pm = 0.003\n",
    "pg = 0.003\n",
    "a0 = 5.0\n",
    "a1 = 1/80.\n",
    "eta = 1/50.\n",
    "theta = .24\n",
    "\n",
    "# Parameters for the surface code\n",
    "distance = 10\n",
    "topology = \"toric\"\n",
    "\n",
    "# Initialize objects\n",
    "sc = surface_code.SurfaceCode(distance, topology)\n",
    "lc = layers.Layers(sc)\n",
    "\n",
    "# Error object inside the surface code object handles loading the error model and \n",
    "# drawing random errors\n",
    "sc.init_error_obj(topology, ps, pm, pg, eta, a0, a1, theta, \"DEMO\")\n",
    "\n"
   ]
  },
  {
   "cell_type": "markdown",
   "metadata": {},
   "source": [
    "Don't forget that we also need to include the value of the memory error and select a stabilizer protocol for making the measurements. \n",
    "\n",
    "The stabilizer protocol depends on how many data qubits per node are being considered, the following image shows some of the protocols we intend to simulate:\n",
    "<img src=\"decomposition/extras/stab_protocols.png\",width=900>"
   ]
  },
  {
   "cell_type": "code",
   "execution_count": 12,
   "metadata": {},
   "outputs": [
    {
     "name": "stdout",
     "output_type": "stream",
     "text": [
      "Environment error rate:  3.54085767985e-05\n"
     ]
    }
   ],
   "source": [
    "# The average time it took to generate the GHZ state for all values of a0\n",
    "# This number is obtained when creating the GHZ states\n",
    "t = 0.07527\n",
    "\n",
    "# Select protocol\n",
    "sc.select_measurement_protocol(t, [0, a1], \"single\")\n",
    "\n",
    "# The error rate due to the enviroment\n",
    "print(\"Environment error rate: \", sc.p_env)"
   ]
  },
  {
   "cell_type": "markdown",
   "metadata": {},
   "source": [
    "We can now repeat the simulation procedure but using the new errors and the selected protocol."
   ]
  },
  {
   "cell_type": "code",
   "execution_count": 13,
   "metadata": {},
   "outputs": [
    {
     "name": "stdout",
     "output_type": "stream",
     "text": [
      "LOGICAL QUBITS:  ([1.0, 1.0], [1.0, 1.0])\n"
     ]
    },
    {
     "data": {
      "image/png": "[encoded data removed]",
      "text/plain": [
       "<matplotlib.figure.Figure at 0x7f24c8bb2a58>"
      ]
     },
     "metadata": {},
     "output_type": "display_data"
    },
    {
     "data": {
      "image/png": "[encoded data removed]",
      "text/plain": [
       "<matplotlib.figure.Figure at 0x7f24c8ed49b0>"
      ]
     },
     "metadata": {},
     "output_type": "display_data"
    }
   ],
   "source": [
    "cycles = 10\n",
    "\n",
    "# Take measurements and apply errors\n",
    "for t in range(cycles):\n",
    "    # Call choosen measurement protocol\n",
    "    sc.noisy_measurement_cycle()\n",
    "    lc.add()\n",
    "# Final perfect last measurement\n",
    "sc.measure_all_stabilizers()\n",
    "lc.add()\n",
    "\n",
    "# Plot of the errors on the surface code\n",
    "sc.plot_all()\n",
    "\n",
    "# Decode and apply corrections\n",
    "lc.decode()\n",
    "    \n",
    "# Sanity check for errors in decoding and correcting\n",
    "sc.measure_all_stabilizers()\n",
    "if (sc.qubits[:, sc.tags != \"Q\"] == -1).any():\n",
    "    print(\"FAILURE CORRECTING\")\n",
    "\n",
    "# Plot the corrected code\n",
    "sc.plot_all()\n",
    "    \n",
    "# Measure logical qubit\n",
    "logical = sc.measure_logical()\n",
    "\n",
    "# Check if a logical error happens\n",
    "print(\"LOGICAL QUBITS: \", logical)\n",
    "if -1 in logical[0] or -1 in logical[1]:\n",
    "   print(\"LOGICAL QUBIT ERROR\")\n",
    "\n",
    "plt.show()\n",
    "\n",
    "# Reset the surface code and erase all the stored measurements\n",
    "lc.reset()\n",
    "sc.reset()"
   ]
  },
  {
   "cell_type": "markdown",
   "metadata": {},
   "source": [
    "### Thresholds \n",
    "Now we can calculate some thresholds. \n",
    "\n",
    "For this demo we will try to calculate a threshold on the environmental error parameter $a_0$.\n",
    "To do so we use the pre calculated error states based on the following parameters.\n",
    "\n",
    "* $p_s = 0.003$\n",
    "* $p_m = 0.003$\n",
    "* $p_g = 0.003$\n",
    "* $a_1 = 1/80.$\n",
    "* $\\eta = 1/50.$\n",
    "* $\\theta =  \\pi/2$\n",
    "\n",
    "And with $a_0$ varying as $a_0 = [6.0, ~ 5.5, ~ 5.0, ~ 4.5, ~ 4.0, ~ 3.5, ~ 3.0, ~ 2.5, ~ 2.0, ~ 1.5, ~ 1.0]$."
   ]
  },
  {
   "cell_type": "code",
   "execution_count": 14,
   "metadata": {},
   "outputs": [],
   "source": [
    "# Lets wrap the surface code simulation into a function for simplicity\n",
    "def simulate_surface_code(cycles, iterations):\n",
    "    fail_rate = 0\n",
    "    for i in range(iterations):\n",
    "        for t in range(cycles):\n",
    "            sc.noisy_measurement_cycle()\n",
    "            lc.add()\n",
    "        sc.measure_all_stabilizers()\n",
    "        lc.add()\n",
    "\n",
    "        lc.decode()\n",
    "\n",
    "        logical = sc.measure_logical()\n",
    "\n",
    "        # Check if a logical error happens\n",
    "        if -1 in logical[0] or -1 in logical[1]:\n",
    "            fail_rate += 1\n",
    "\n",
    "        lc.reset()\n",
    "        sc.reset()\n",
    "    fail_rate = fail_rate/iterations\n",
    "    return 1 - fail_rate\n"
   ]
  },
  {
   "cell_type": "markdown",
   "metadata": {},
   "source": [
    "Now we can calculate the thresholds using the sample error models.\n",
    "\n",
    "**NOTE:** Depending on the number of iterations this may take some time. For decent statistics a number of $\\approx 3\\times 10^3$ is required. \n"
   ]
  },
  {
   "cell_type": "code",
   "execution_count": null,
   "metadata": {},
   "outputs": [],
   "source": [
    "# Parameters\n",
    "ps = 0.003\n",
    "pm = 0.003\n",
    "pg = 0.003\n",
    "a1 = 1/80.\n",
    "eta = 1/50.\n",
    "theta = .24\n",
    "# The time remained approx constant when changing a0\n",
    "t = 0.07527\n",
    "\n",
    "# Parameters for the surface code\n",
    "topology = \"toric\"\n",
    "\n",
    "# Change the number of iterations for each simulation\n",
    "iterations = 100\n",
    "\n",
    "distances = [6, 8, 10, 12]\n",
    "threshold_var = [6.0, 5.5, 5.0, 4.5, 4.0, 3.5, 3.0, 2.5, 2.0, 1.5, 1.0]\n",
    "\n",
    "success_rates = []\n",
    "\n",
    "for d in distances:\n",
    "    sr = []\n",
    "    # Initialize objects\n",
    "    sc = surface_code.SurfaceCode(d, topology)\n",
    "    lc = layers.Layers(sc)\n",
    "\n",
    "\n",
    "\n",
    "    for a0 in threshold_var:\n",
    "        # Error object inside the surface code object handles loading the error model and \n",
    "        # drawing random errors\n",
    "        sc.init_error_obj(topology, ps, pm, pg, eta, a0, a1, theta, \"DEMO\")\n",
    "        \n",
    "        # Select protocol\n",
    "        sc.select_measurement_protocol(t, [0, a1], \"single\")\n",
    "\n",
    "        sr += [simulate_surface_code(d, iterations)]\n",
    "        \n",
    "    success_rates += [sr]\n",
    "    \n"
   ]
  },
  {
   "cell_type": "code",
   "execution_count": null,
   "metadata": {},
   "outputs": [],
   "source": [
    "# Plot the resulting success rates\n",
    "for p in success_rates:\n",
    "    plt.plot(threshold_var, p)\n",
    "    \n",
    "plt.show()"
   ]
  },
  {
   "cell_type": "code",
   "execution_count": null,
   "metadata": {},
   "outputs": [],
   "source": []
  }
 ],
 "metadata": {
  "kernelspec": {
   "display_name": "Python 3",
   "language": "python",
   "name": "python3"
  },
  "language_info": {
   "codemirror_mode": {
    "name": "ipython",
    "version": 3
   },
   "file_extension": ".py",
   "mimetype": "text/x-python",
   "name": "python",
   "nbconvert_exporter": "python",
   "pygments_lexer": "ipython3",
   "version": "3.5.2"
  }
 },
 "nbformat": 4,
 "nbformat_minor": 2
}
